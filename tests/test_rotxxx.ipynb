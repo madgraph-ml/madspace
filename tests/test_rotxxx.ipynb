{
 "cells": [
  {
   "cell_type": "code",
   "execution_count": 1,
   "id": "5fb61342",
   "metadata": {},
   "outputs": [],
   "source": [
    "import torch\n",
    "from madspace.functional.kinematics import rotxxx, rotxxx_inv, rotate_zy, pmag, atan2"
   ]
  },
  {
   "cell_type": "code",
   "execution_count": 3,
   "id": "a364dbab",
   "metadata": {},
   "outputs": [
    {
     "name": "stdout",
     "output_type": "stream",
     "text": [
      "prot =\n",
      " tensor([[ 3.000000,  1.000000,  2.000000,  3.000000],\n",
      "        [ 3.000000, -1.500000,  2.000000, -4.000000],\n",
      "        [ 4.000000,  2.121320,  2.828427,  3.535534]], dtype=torch.float64)\n",
      "p_back =\n",
      " tensor([[     3.000000,      1.000000,      2.000000,      3.000000],\n",
      "        [     3.000000,      1.500000,     -2.000000,      4.000000],\n",
      "        [     4.000000,      0.000000,     -0.000000,      5.000000]],\n",
      "       dtype=torch.float64)\n"
     ]
    }
   ],
   "source": [
    "torch.set_printoptions(precision=6, sci_mode=False)\n",
    "dtype = torch.float64\n",
    "\n",
    "# --- Test inputs -------------------------------------------------------------\n",
    "\n",
    "# Case 1: q along +z  → identity on spatial part\n",
    "q1 = torch.tensor([10.0, 0.0, 0.0,  +5.0], dtype=dtype)\n",
    "p1 = torch.tensor([ 3.0, 1.0, 2.0,  +3.0], dtype=dtype)  # arbitrary\n",
    "\n",
    "# Case 2: q along -z  → spatial sign flip\n",
    "q2 = torch.tensor([10.0, 0.0, 0.0,  -7.0], dtype=dtype)\n",
    "p2 = torch.tensor([ 3.0, 1.5, -2.0, 4.0], dtype=dtype)  # arbitrary\n",
    "\n",
    "# Case 3: generic q (qx,qy,qz) = (6,8,10)  (|q_T|=10, |q|=sqrt(200))\n",
    "# Choose p aligned with +z in the q-aligned frame → result points along q̂ with |p_z|\n",
    "q3 = torch.tensor([20.0, 6.0, 8.0, 10.0], dtype=dtype)\n",
    "pz = 5.0\n",
    "p3 = torch.tensor([ 4.0, 0.0, 0.0, pz], dtype=dtype)\n",
    "\n",
    "# Batch them\n",
    "q = torch.stack([q1, q2, q3], dim=0)        # (3,4)\n",
    "p = torch.stack([p1, p2, p3], dim=0)        # (3,4)\n",
    "\n",
    "# --- Run forward and inverse -------------------------------------------------\n",
    "\n",
    "prot = rotxxx(p, q)          # forward rotation\n",
    "p_back = rotxxx_inv(prot, q) # inverse should recover p\n",
    "\n",
    "print(\"prot =\\n\", prot)\n",
    "print(\"p_back =\\n\", p_back)"
   ]
  },
  {
   "cell_type": "code",
   "execution_count": 13,
   "id": "be91969f",
   "metadata": {},
   "outputs": [
    {
     "name": "stdout",
     "output_type": "stream",
     "text": [
      "p3rot1 =\n",
      " tensor([4.000000, 2.121320, 2.828427, 3.535534], dtype=torch.float64)\n",
      "p3rot2 =\n",
      " tensor([4.000000, 2.121320, 2.828427, 3.535534], dtype=torch.float64)\n"
     ]
    }
   ],
   "source": [
    "EPS = 1e-12\n",
    "q3 = torch.tensor([20.0, 6.0, 8.0, 10.0], dtype=dtype)\n",
    "p3 = torch.tensor([ 4.0, 0.0, 0.0, 5.0], dtype=dtype)\n",
    "\n",
    "q3mag = pmag(q3)\n",
    "phi3 = atan2(q3[2], q3[1])\n",
    "costheta3 = q3[3] / q3mag.clip(min=EPS)\n",
    "p3rot1 = rotate_zy(p3, phi3, costheta3)\n",
    "p3rot2 = rotxxx(p3, q3)\n",
    "print(\"p3rot1 =\\n\", p3rot1)\n",
    "print(\"p3rot2 =\\n\", p3rot2)\n",
    "\n"
   ]
  },
  {
   "cell_type": "code",
   "execution_count": 32,
   "id": "a2a873d1",
   "metadata": {},
   "outputs": [
    {
     "name": "stdout",
     "output_type": "stream",
     "text": [
      "All rotxxx / rotxxx_inv tests passed ✔️\n"
     ]
    }
   ],
   "source": [
    "# --- Assertions / expected checks -------------------------------------------\n",
    "\n",
    "EPS = 1e-12\n",
    "\n",
    "# Case 1: identity (q_T==0, qz>0)\n",
    "assert torch.allclose(prot[0], p[0], atol=EPS)\n",
    "\n",
    "# Case 2: sign flip (q_T==0, qz<0)  → spatial parts multiply by -1\n",
    "assert torch.allclose(prot[1, 0], p[1, 0], atol=EPS)       # energy unchanged\n",
    "assert torch.allclose(prot[1, 1:], -p[1, 1:], atol=EPS)    # spatial flipped\n",
    "\n",
    "# Case 3: p = (E,0,0,pz) in q-aligned frame should map to pz * q̂ in lab\n",
    "q_vec = q[2, 1:]\n",
    "q_norm = torch.linalg.vector_norm(q_vec)\n",
    "expected_spatial = (pz / q_norm) * q_vec   # = pz * q / |q|\n",
    "assert torch.allclose(prot[2, 1:], expected_spatial, atol=EPS)\n",
    "\n",
    "# Inverse round-trip for all cases\n",
    "assert torch.allclose(p_back, p, atol=EPS)\n",
    "print(\"All rotxxx / rotxxx_inv tests passed ✔️\")"
   ]
  },
  {
   "cell_type": "code",
   "execution_count": 33,
   "id": "d646c9a2",
   "metadata": {},
   "outputs": [
    {
     "name": "stdout",
     "output_type": "stream",
     "text": [
      "Edge-case rotxxx / rotxxx_inv tests passed ✔️\n"
     ]
    }
   ],
   "source": [
    "# --- Edge-case Assertions / expected checks -------------------------------------------\n",
    "q4 = torch.tensor([12.0, 1e-16, -1e-16, 3.0], dtype=dtype)  # q_T ~ 0, qz>0\n",
    "p4 = torch.tensor([ 2.0, 0.3, -0.4, 0.5], dtype=dtype)\n",
    "prot4 = rotxxx(p4.unsqueeze(0), q4.unsqueeze(0))[0]\n",
    "assert torch.allclose(prot4, p4, atol=EPS)\n",
    "print(\"Edge-case rotxxx / rotxxx_inv tests passed ✔️\")"
   ]
  }
 ],
 "metadata": {
  "kernelspec": {
   "display_name": "py312",
   "language": "python",
   "name": "python3"
  },
  "language_info": {
   "codemirror_mode": {
    "name": "ipython",
    "version": 3
   },
   "file_extension": ".py",
   "mimetype": "text/x-python",
   "name": "python",
   "nbconvert_exporter": "python",
   "pygments_lexer": "ipython3",
   "version": "3.12.10"
  }
 },
 "nbformat": 4,
 "nbformat_minor": 5
}
