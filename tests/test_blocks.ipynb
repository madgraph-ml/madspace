{
 "cells": [
  {
   "cell_type": "code",
   "execution_count": 1,
   "metadata": {},
   "outputs": [],
   "source": [
    "\n",
    "import torch\n",
    "torch.set_default_dtype(torch.float64)\n",
    "\n",
    "import time\n",
    "from madspace.functional.kinematics import lsquare, mass, boost, esquare, rapidity\n",
    "from math import pi\n",
    "from torch import sqrt, log, exp, sinh, cos, sin, atan2\n",
    "DEFAULT_FLOAT = torch.get_default_dtype()\n",
    "EPS = torch.finfo(DEFAULT_FLOAT).eps"
   ]
  },
  {
   "cell_type": "markdown",
   "metadata": {},
   "source": [
    "## T-channel mapping\n",
    "\n",
    "$2 \\to 2$ parametrized in terms of $t$ and $\\phi$"
   ]
  },
  {
   "cell_type": "code",
   "execution_count": null,
   "metadata": {},
   "outputs": [],
   "source": [
    "from madspace.twoparticle import TwoToTwoScatteringLAB"
   ]
  },
  {
   "cell_type": "code",
   "execution_count": 29,
   "metadata": {},
   "outputs": [],
   "source": [
    "s = torch.tensor(500**2)\n",
    "n = 2\n",
    "p_in = torch.empty((n,2,4))\n",
    "p_in[:,:,0] = sqrt(s)/2\n",
    "p_in[:,0,3] = sqrt(s)/2\n",
    "p_in[:,1,3] = -sqrt(s)/2"
   ]
  },
  {
   "cell_type": "code",
   "execution_count": null,
   "metadata": {},
   "outputs": [],
   "source": [
    "t_map = TwoToTwoScatteringLAB()\n",
    "r = torch.rand((n,2))\n",
    "m_out = torch.tensor([0.0, 0.0]).tile((n,1))"
   ]
  },
  {
   "cell_type": "code",
   "execution_count": 31,
   "metadata": {},
   "outputs": [
    {
     "name": "stdout",
     "output_type": "stream",
     "text": [
      "tensor([[[ 2.5000e+02,  1.0695e-04,  1.5883e-04,  2.5000e+02],\n",
      "         [ 2.5000e+02, -1.0695e-04, -1.5883e-04, -2.5000e+02]],\n",
      "\n",
      "        [[ 2.5000e+02, -1.7898e-07, -7.6980e-04,  2.5000e+02],\n",
      "         [ 2.5000e+02,  1.7898e-07,  7.6980e-04, -2.5000e+02]]])\n"
     ]
    }
   ],
   "source": [
    "(p_out,),_ = t_map.map([r, m_out], condition=[p_in])\n",
    "print(p_out)"
   ]
  },
  {
   "cell_type": "markdown",
   "metadata": {},
   "source": [
    "## Breit Wigner Invariant Block"
   ]
  },
  {
   "cell_type": "code",
   "execution_count": 15,
   "metadata": {},
   "outputs": [],
   "source": [
    "from madspace.invariants import BreitWignerInvariantBlock, UniformInvariantBlock\n",
    "\n",
    "mw = torch.tensor(80.377)\n",
    "ww = torch.tensor(2.085)\n",
    "#s12_generator = BreitWignerInvariantBlock(mw,ww)\n",
    "s12_generator = UniformInvariantBlock()"
   ]
  },
  {
   "cell_type": "code",
   "execution_count": 19,
   "metadata": {},
   "outputs": [
    {
     "name": "stdout",
     "output_type": "stream",
     "text": [
      "tensor([[ 49079.5611],\n",
      "        [ 96865.6412],\n",
      "        [193269.0703],\n",
      "        [ 44205.9462]])\n"
     ]
    }
   ],
   "source": [
    "n = 4\n",
    "smin = 50**2 * torch.ones((n,1))\n",
    "smax = 500**2 * torch.ones((n,1))\n",
    "r = torch.rand((n,1))\n",
    "(s,), det_s = s12_generator.map([r], condition=[smin,smax])\n",
    "print(s)"
   ]
  },
  {
   "cell_type": "markdown",
   "metadata": {},
   "source": [
    "## Test Single Channel VBS"
   ]
  },
  {
   "cell_type": "code",
   "execution_count": null,
   "metadata": {},
   "outputs": [],
   "source": [
    "from madspace.single_channel import SingleChannelVBS\n",
    "s_lab = torch.tensor(13000**2)\n",
    "mw = torch.tensor(80.377)\n",
    "vbs_generator = SingleChannelVBS(s_lab, mw)"
   ]
  },
  {
   "cell_type": "code",
   "execution_count": 7,
   "metadata": {},
   "outputs": [
    {
     "name": "stdout",
     "output_type": "stream",
     "text": [
      "-----------\n",
      "torch.Size([1, 6, 4])\n",
      "torch.Size([1])\n"
     ]
    }
   ],
   "source": [
    "n=int(1)\n",
    "r = torch.rand((n,10))\n",
    "(p_ext, x1x2), det = vbs_generator.map([r])\n",
    "print(\"-----------\")\n",
    "print(p_ext.shape)\n",
    "print(det.shape)"
   ]
  }
 ],
 "metadata": {
  "kernelspec": {
   "display_name": "tf",
   "language": "python",
   "name": "python3"
  },
  "language_info": {
   "codemirror_mode": {
    "name": "ipython",
    "version": 3
   },
   "file_extension": ".py",
   "mimetype": "text/x-python",
   "name": "python",
   "nbconvert_exporter": "python",
   "pygments_lexer": "ipython3",
   "version": "3.10.6"
  }
 },
 "nbformat": 4,
 "nbformat_minor": 2
}
