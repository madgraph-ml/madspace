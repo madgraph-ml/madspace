{
 "cells": [
  {
   "cell_type": "code",
   "execution_count": 1,
   "metadata": {},
   "outputs": [],
   "source": [
    "\n",
    "## rootfinder (basic and fast versions)\n",
    "import torch\n",
    "torch.set_default_dtype(torch.float64)\n",
    "from madspace.rootfinder.methods import newton, bisect\n",
    "from madspace.rootfinder.roots import get_u_parameter, get_xi_parameter\n",
    "import time"
   ]
  },
  {
   "cell_type": "markdown",
   "metadata": {},
   "source": [
    "# Rambo mass function test"
   ]
  },
  {
   "cell_type": "code",
   "execution_count": 2,
   "metadata": {},
   "outputs": [],
   "source": [
    "n = int(1e6)\n",
    "particles = 5\n",
    "ptemp = 1000*torch.randn((n,particles-1,4))\n",
    "plast = -ptemp.sum(dim=1, keepdim=True)\n",
    "p = torch.cat([ptemp, plast], dim=1)\n",
    "m = 500*torch.rand((1,particles))\n",
    "pmag2 = torch.sum(p[:,:,1:]**2, dim=-1)\n",
    "p[:,:,0] = torch.sqrt(pmag2 + m**2)\n",
    "p_tot =  torch.sum(p, dim=1)\n",
    "e_cm = p_tot[:,0]\n",
    "\n",
    "# define the function and its gradient with respect to x and p_i\n",
    "def func2(x, p, m):\n",
    "    root = torch.sqrt(x[:, None] ** 2 * p[:, :, 0] ** 2 + m**2)\n",
    "    f = torch.sum(root, dim=-1) - e_cm\n",
    "    return f\n",
    "    \n",
    "def dfunc2(x, p, m):\n",
    "    root = torch.sqrt(x[:, None] ** 2 * p[:, :, 0] ** 2 + m**2)\n",
    "    return torch.sum(x[:, None] * p[:, :, 0] ** 2 / root, dim=-1)\n",
    "\n",
    "def dpfunc2(x, p, m):\n",
    "    root = torch.sqrt(x[:, None] ** 2 * p[:, :, 0] ** 2 + m**2)\n",
    "    return x[:, None]**2 * p[:, :, 0] / root\n",
    "\n",
    "# set up the parameters and the initial guess\n",
    "xi0 = 0.5*torch.ones((n,)).requires_grad_() # zeros as the initial guess"
   ]
  },
  {
   "cell_type": "markdown",
   "metadata": {},
   "source": [
    "## Test method itself (newton)"
   ]
  },
  {
   "cell_type": "code",
   "execution_count": 3,
   "metadata": {},
   "outputs": [
    {
     "name": "stdout",
     "output_type": "stream",
     "text": [
      "--- 0.4383690357208252 seconds ---\n",
      "\n"
     ]
    }
   ],
   "source": [
    "q = p.clone().requires_grad_()\n",
    "f = lambda x: func2(x, q,m)\n",
    "df = lambda x: dfunc2(x,q,m)\n",
    "\n",
    "min = (0.0) * torch.ones_like(xi0)\n",
    "max = (1.0) * torch.ones_like(xi0)\n",
    "start_time = time.time()\n",
    "xi2 = newton(f,df,min,max,xi0)\n",
    "print(\"--- %s seconds ---\\n\" % (time.time() - start_time))\n",
    "Lxi = xi2.sum()"
   ]
  },
  {
   "cell_type": "code",
   "execution_count": 4,
   "metadata": {},
   "outputs": [
    {
     "name": "stdout",
     "output_type": "stream",
     "text": [
      "--- 1.1457457542419434 seconds ---\n",
      "\n",
      "tensor([-8.3012e-05, -8.3176e-05, -8.2560e-05, -8.2462e-05, -8.2438e-05])\n",
      "torch.Size([1000000, 5, 4])\n"
     ]
    }
   ],
   "source": [
    "q.grad = None\n",
    "start_time = time.time()\n",
    "Lxi.backward(retain_graph=True)\n",
    "print(\"--- %s seconds ---\\n\" % (time.time() - start_time))\n",
    "qgrad1 = q.grad\n",
    "print(qgrad1[5123,:,0])\n",
    "print(qgrad1.shape)"
   ]
  },
  {
   "cell_type": "markdown",
   "metadata": {},
   "source": [
    "## Test autograd solver function"
   ]
  },
  {
   "cell_type": "code",
   "execution_count": 5,
   "metadata": {},
   "outputs": [
    {
     "name": "stdout",
     "output_type": "stream",
     "text": [
      "--- 0.29462504386901855 seconds ---\n",
      "\n"
     ]
    }
   ],
   "source": [
    "\n",
    "# new root finder\n",
    "q = p.clone().requires_grad_()\n",
    "start_time = time.time()\n",
    "xi3 = get_xi_parameter(q[:,:,0],m)\n",
    "print(\"--- %s seconds ---\\n\" % (time.time() - start_time))"
   ]
  },
  {
   "cell_type": "code",
   "execution_count": 6,
   "metadata": {},
   "outputs": [
    {
     "name": "stdout",
     "output_type": "stream",
     "text": [
      "--- 0.06886100769042969 seconds ---\n",
      "\n",
      "tensor([5.8496e-07, 4.2081e-07, 1.0368e-06, 1.1352e-06, 1.1591e-06])\n",
      "torch.Size([1000000, 5, 4])\n"
     ]
    }
   ],
   "source": [
    "q.grad = None\n",
    "L = xi3.sum()\n",
    "start_time = time.time()\n",
    "L.backward(retain_graph=True)\n",
    "print(\"--- %s seconds ---\\n\" % (time.time() - start_time))\n",
    "qgrad2 = q.grad\n",
    "print(qgrad2[5123,:,0])\n",
    "print(qgrad2.shape)"
   ]
  },
  {
   "cell_type": "markdown",
   "metadata": {},
   "source": [
    "# Rambo normal function"
   ]
  },
  {
   "cell_type": "code",
   "execution_count": 7,
   "metadata": {},
   "outputs": [],
   "source": [
    "nparticles=5\n",
    "n = int(1e5)\n",
    "\n",
    "i = torch.arange(2, nparticles)[None, :]\n",
    "xs = torch.rand((n, 3*nparticles-4), requires_grad=True)\n",
    "def func3(x, xs):\n",
    "    f=(\n",
    "        (nparticles + 1 - i) * x ** (2 * (nparticles - i))\n",
    "        - (nparticles - i) * x ** (2 * (nparticles + 1 - i))\n",
    "        - xs[:, : nparticles - 2]\n",
    "    )\n",
    "    return f\n",
    "\n",
    "def func3a(x, xs):\n",
    "    f=(\n",
    "        (nparticles + 1 - i) * x ** (2 * (nparticles - i))\n",
    "        - (nparticles - i) * x ** (2 * (nparticles + 1 - i))\n",
    "        - xs\n",
    "    )\n",
    "    return f\n",
    "\n",
    "def dfunc3(x):\n",
    "    df = (nparticles + 1 - i) * (2 * (nparticles - i)) * x ** (\n",
    "            2 * (nparticles - i) - 1\n",
    "        ) - (nparticles - i) * (2 * (nparticles + 1 - i)) * x ** (\n",
    "            2 * (nparticles + 1 - i) - 1\n",
    "        )\n",
    "    return df\n",
    "\n",
    "# set up the parameters and the initial guess\n",
    "u0 = 0.5*torch.ones((n, nparticles-2)) # zeros as the initial guess"
   ]
  },
  {
   "cell_type": "code",
   "execution_count": 8,
   "metadata": {},
   "outputs": [
    {
     "name": "stdout",
     "output_type": "stream",
     "text": [
      "--- 0.14864611625671387 seconds ---\n",
      "\n"
     ]
    }
   ],
   "source": [
    "xs.grad = None\n",
    "f = lambda x: func3(x, xs)\n",
    "df = lambda x: dfunc3(x)\n",
    "\n",
    "min = (0.0) * torch.ones_like(u0)\n",
    "max = (1.0) * torch.ones_like(u0)\n",
    "start_time = time.time()\n",
    "u2 = newton(f,df,min,max,u0)\n",
    "print(\"--- %s seconds ---\\n\" % (time.time() - start_time))"
   ]
  },
  {
   "cell_type": "code",
   "execution_count": 9,
   "metadata": {},
   "outputs": [
    {
     "name": "stdout",
     "output_type": "stream",
     "text": [
      "--- 0.12767982482910156 seconds ---\n",
      "\n"
     ]
    }
   ],
   "source": [
    "# Test speed of backpropagation\n",
    "L = u2.sum()\n",
    "start_time = time.time()\n",
    "L.backward()\n",
    "print(\"--- %s seconds ---\\n\" % (time.time() - start_time))"
   ]
  },
  {
   "cell_type": "markdown",
   "metadata": {},
   "source": [
    "## Autograd Solver"
   ]
  },
  {
   "cell_type": "code",
   "execution_count": 10,
   "metadata": {},
   "outputs": [
    {
     "name": "stdout",
     "output_type": "stream",
     "text": [
      "--- 0.13277912139892578 seconds ---\n",
      "\n"
     ]
    }
   ],
   "source": [
    "# Combine newton with custom Autograd \n",
    "xs.grad = None\n",
    "start_time = time.time()\n",
    "u4 = get_u_parameter(xs[:, :nparticles - 2])\n",
    "print(\"--- %s seconds ---\\n\" % (time.time() - start_time))"
   ]
  },
  {
   "cell_type": "code",
   "execution_count": 11,
   "metadata": {},
   "outputs": [
    {
     "name": "stdout",
     "output_type": "stream",
     "text": [
      "--- 0.0008289813995361328 seconds ---\n",
      "\n"
     ]
    }
   ],
   "source": [
    "L = u4.sum()\n",
    "start_time = time.time()\n",
    "L.backward()\n",
    "print(\"--- %s seconds ---\\n\" % (time.time() - start_time))"
   ]
  },
  {
   "cell_type": "markdown",
   "metadata": {},
   "source": [
    "## Bisection Solver"
   ]
  },
  {
   "cell_type": "code",
   "execution_count": 12,
   "metadata": {},
   "outputs": [
    {
     "name": "stdout",
     "output_type": "stream",
     "text": [
      "--- 0.1539597511291504 seconds ---\n",
      "\n"
     ]
    }
   ],
   "source": [
    "# Test bisection\n",
    "min = (0.0) * torch.ones_like(u0)\n",
    "max = (1.0) * torch.ones_like(u0)\n",
    "start_time = time.time()\n",
    "u3 = bisect(f,df,min,max,u0)\n",
    "print(\"--- %s seconds ---\\n\" % (time.time() - start_time))"
   ]
  }
 ],
 "metadata": {
  "kernelspec": {
   "display_name": "py312",
   "language": "python",
   "name": "python3"
  },
  "language_info": {
   "codemirror_mode": {
    "name": "ipython",
    "version": 3
   },
   "file_extension": ".py",
   "mimetype": "text/x-python",
   "name": "python",
   "nbconvert_exporter": "python",
   "pygments_lexer": "ipython3",
   "version": "3.12.10"
  }
 },
 "nbformat": 4,
 "nbformat_minor": 2
}
