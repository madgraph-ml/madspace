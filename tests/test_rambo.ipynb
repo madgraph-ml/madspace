{
 "cells": [
  {
   "cell_type": "code",
   "execution_count": 6,
   "metadata": {},
   "outputs": [],
   "source": [
    "## Test xitorch vs my newton\n",
    "\n",
    "import torch\n",
    "torch.set_default_dtype(torch.float64)\n",
    "\n",
    "from madspace.rambo import Rambo, RamboOnDiet\n",
    "import time\n",
    "from madspace.functional.kinematics import lsquare, mass, boost, esquare\n",
    "from math import pi\n",
    "DEFAULT_FLOAT = torch.get_default_dtype()\n",
    "EPS = torch.finfo(DEFAULT_FLOAT).eps"
   ]
  },
  {
   "cell_type": "markdown",
   "metadata": {},
   "source": [
    "## Rambo phase-space (non-invertible)"
   ]
  },
  {
   "cell_type": "code",
   "execution_count": 7,
   "metadata": {},
   "outputs": [],
   "source": [
    "e_cm = torch.tensor(500.).unsqueeze(0)\n",
    "nparticles = 4\n",
    "MW = 80.377\n",
    "masses = [MW, MW, MW, 0.0]\n",
    "rambo = Rambo(nparticles, masses=masses)"
   ]
  },
  {
   "cell_type": "code",
   "execution_count": 8,
   "metadata": {},
   "outputs": [
    {
     "name": "stdout",
     "output_type": "stream",
     "text": [
      "--- 0.003982067108154297 seconds ---\n",
      "\n",
      "tensor([[[ 250.0000,    0.0000,    0.0000,  250.0000],\n",
      "         [ 250.0000,    0.0000,    0.0000, -250.0000],\n",
      "         [ 155.6465,   76.4384,   85.3215,  -68.1380],\n",
      "         [ 160.1995,    4.8000,  -48.7152,  129.6426],\n",
      "         [  82.7689,  -18.0738,    2.1730,    7.6714],\n",
      "         [ 101.3850,  -63.1645,  -38.7794,  -69.1760]]],\n",
      "       grad_fn=<CatBackward0>)\n",
      "tensor([[0.0000e+00, 0.0000e+00, 8.0377e+01, 8.0377e+01, 8.0377e+01, 1.9073e-06]],\n",
      "       grad_fn=<SqrtBackward0>)\n"
     ]
    }
   ],
   "source": [
    "n = int(1)\n",
    "r = torch.rand((n, 4* nparticles)).requires_grad_()\n",
    "start_time = time.time()\n",
    "(p,), weight = rambo.map([r, e_cm])\n",
    "print(\"--- %s seconds ---\\n\" % (time.time() - start_time))\n",
    "\n",
    "print(p)\n",
    "print(mass(p))"
   ]
  },
  {
   "cell_type": "code",
   "execution_count": 9,
   "metadata": {},
   "outputs": [
    {
     "name": "stdout",
     "output_type": "stream",
     "text": [
      "--- 0.02300286293029785 seconds ---\n",
      "\n",
      "torch.Size([1, 16])\n"
     ]
    }
   ],
   "source": [
    "Lp = p.sum()\n",
    "start_time = time.time()\n",
    "Lp.backward(retain_graph=True)\n",
    "print(\"--- %s seconds ---\\n\" % (time.time() - start_time))\n",
    "rg = r.grad\n",
    "print(rg.shape)"
   ]
  },
  {
   "cell_type": "markdown",
   "metadata": {},
   "source": [
    "## Rambo on Diet (invertible map)"
   ]
  },
  {
   "cell_type": "code",
   "execution_count": 10,
   "metadata": {},
   "outputs": [],
   "source": [
    "e_cm = torch.tensor(500.)\n",
    "nparticles = 3\n",
    "MW = 80.377\n",
    "masses = [MW, MW, MW]\n",
    "rambo = RamboOnDiet(nparticles, masses=masses)"
   ]
  },
  {
   "cell_type": "code",
   "execution_count": 11,
   "metadata": {},
   "outputs": [
    {
     "ename": "IndexError",
     "evalue": "too many indices for tensor of dimension 0",
     "output_type": "error",
     "traceback": [
      "\u001b[31m---------------------------------------------------------------------------\u001b[39m",
      "\u001b[31mIndexError\u001b[39m                                Traceback (most recent call last)",
      "\u001b[36mCell\u001b[39m\u001b[36m \u001b[39m\u001b[32mIn[11]\u001b[39m\u001b[32m, line 4\u001b[39m\n\u001b[32m      2\u001b[39m r = torch.rand((n, \u001b[32m3\u001b[39m* nparticles-\u001b[32m4\u001b[39m)).requires_grad_()\n\u001b[32m      3\u001b[39m start_time = time.time()\n\u001b[32m----> \u001b[39m\u001b[32m4\u001b[39m (p,), weight = \u001b[43mrambo\u001b[49m\u001b[43m.\u001b[49m\u001b[43mmap\u001b[49m\u001b[43m(\u001b[49m\u001b[43m[\u001b[49m\u001b[43mr\u001b[49m\u001b[43m,\u001b[49m\u001b[43m \u001b[49m\u001b[43me_cm\u001b[49m\u001b[43m]\u001b[49m\u001b[43m)\u001b[49m\n\u001b[32m      5\u001b[39m \u001b[38;5;28mprint\u001b[39m(\u001b[33m\"\u001b[39m\u001b[33m--- \u001b[39m\u001b[38;5;132;01m%s\u001b[39;00m\u001b[33m seconds ---\u001b[39m\u001b[38;5;130;01m\\n\u001b[39;00m\u001b[33m\"\u001b[39m % (time.time() - start_time))\n\u001b[32m      7\u001b[39m \u001b[38;5;66;03m# print(p)\u001b[39;00m\n\u001b[32m      8\u001b[39m \u001b[38;5;66;03m# print(mass(p))\u001b[39;00m\n",
      "\u001b[36mFile \u001b[39m\u001b[32m~/hep-projects/madspace/madspace/rambo.py:263\u001b[39m, in \u001b[36mRamboOnDiet.map\u001b[39m\u001b[34m(***failed resolving arguments***)\u001b[39m\n\u001b[32m    261\u001b[39m M = torch.zeros((r.shape[\u001b[32m0\u001b[39m], \u001b[38;5;28mself\u001b[39m.nparticles), device=r.device)\n\u001b[32m    262\u001b[39m M[:, \u001b[32m0\u001b[39m] = e_cm\n\u001b[32m--> \u001b[39m\u001b[32m263\u001b[39m M[:, \u001b[32m1\u001b[39m:-\u001b[32m1\u001b[39m] = torch.cumprod(u, dim=\u001b[32m1\u001b[39m) * \u001b[43me_cm\u001b[49m\u001b[43m[\u001b[49m\u001b[43m:\u001b[49m\u001b[43m,\u001b[49m\u001b[43m \u001b[49m\u001b[38;5;28;43;01mNone\u001b[39;49;00m\u001b[43m]\u001b[49m\n\u001b[32m    265\u001b[39m \u001b[38;5;66;03m# Define first n-1 energies\u001b[39;00m\n\u001b[32m    266\u001b[39m \u001b[38;5;66;03m# gets shape (b, nparticles - 1)\u001b[39;00m\n\u001b[32m    267\u001b[39m q = \u001b[32m4\u001b[39m * M[:, :-\u001b[32m1\u001b[39m] * two_body_decay_factor(M[:, :-\u001b[32m1\u001b[39m], M[:, \u001b[32m1\u001b[39m:], \u001b[32m0\u001b[39m)\n",
      "\u001b[31mIndexError\u001b[39m: too many indices for tensor of dimension 0"
     ]
    }
   ],
   "source": [
    "n = int(1e6)\n",
    "r = torch.rand((n, 3* nparticles-4)).requires_grad_()\n",
    "start_time = time.time()\n",
    "(p,), weight = rambo.map([r, e_cm])\n",
    "print(\"--- %s seconds ---\\n\" % (time.time() - start_time))\n",
    "\n",
    "# print(p)\n",
    "# print(mass(p))"
   ]
  },
  {
   "cell_type": "code",
   "execution_count": null,
   "metadata": {},
   "outputs": [
    {
     "name": "stdout",
     "output_type": "stream",
     "text": [
      "--- 1.498511791229248 seconds ---\n",
      "\n"
     ]
    }
   ],
   "source": [
    "Lp = p.sum()\n",
    "start_time = time.time()\n",
    "Lp.backward(retain_graph=True)\n",
    "print(\"--- %s seconds ---\\n\" % (time.time() - start_time))\n",
    "rg = r.grad"
   ]
  },
  {
   "cell_type": "code",
   "execution_count": null,
   "metadata": {},
   "outputs": [
    {
     "name": "stdout",
     "output_type": "stream",
     "text": [
      "--- 0.6065700054168701 seconds ---\n",
      "\n"
     ]
    }
   ],
   "source": [
    "start_time = time.time()\n",
    "(r2, e_cm2), weight_2 = rambo.map_inverse([p])\n",
    "print(\"--- %s seconds ---\\n\" % (time.time() - start_time))\n",
    "\n",
    "# print(r)\n",
    "# print(r2)\n",
    "accuracy, _ = torch.max(torch.log10(torch.abs(1-r/r2).clamp_min_(EPS)),dim=1)"
   ]
  },
  {
   "cell_type": "code",
   "execution_count": null,
   "metadata": {},
   "outputs": [
    {
     "data": {
      "image/png": "[encoded data removed]",
      "text/plain": [
       "<Figure size 640x480 with 1 Axes>"
      ]
     },
     "metadata": {},
     "output_type": "display_data"
    }
   ],
   "source": [
    "import matplotlib.pyplot as plt\n",
    "plt.hist(accuracy.detach(), bins=50, range=(-16,-6), histtype=\"step\")\n",
    "plt.yscale(\"log\")\n",
    "plt.show()"
   ]
  }
 ],
 "metadata": {
  "kernelspec": {
   "display_name": "py312",
   "language": "python",
   "name": "python3"
  },
  "language_info": {
   "codemirror_mode": {
    "name": "ipython",
    "version": 3
   },
   "file_extension": ".py",
   "mimetype": "text/x-python",
   "name": "python",
   "nbconvert_exporter": "python",
   "pygments_lexer": "ipython3",
   "version": "3.12.10"
  }
 },
 "nbformat": 4,
 "nbformat_minor": 2
}
